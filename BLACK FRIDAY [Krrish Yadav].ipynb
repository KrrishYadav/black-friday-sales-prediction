{
 "cells": [
  {
   "cell_type": "markdown",
   "id": "6204d6ec",
   "metadata": {},
   "source": [
    "### Import Packages "
   ]
  },
  {
   "cell_type": "code",
   "execution_count": 1,
   "id": "179f47d7",
   "metadata": {},
   "outputs": [],
   "source": [
    "import os \n",
    "import pandas as pd \n",
    "import numpy as np \n",
    "import matplotlib.pyplot as plt \n",
    "import seaborn as sns"
   ]
  },
  {
   "cell_type": "code",
   "execution_count": 2,
   "id": "ab0ee2ff",
   "metadata": {},
   "outputs": [],
   "source": [
    "Data = pd.read_csv ('C:/Users/krrish/Documents/projects/black friday project/train/train.csv')"
   ]
  },
  {
   "cell_type": "code",
   "execution_count": 3,
   "id": "b4de9286",
   "metadata": {},
   "outputs": [
    {
     "data": {
      "text/html": [
       "<div>\n",
       "<style scoped>\n",
       "    .dataframe tbody tr th:only-of-type {\n",
       "        vertical-align: middle;\n",
       "    }\n",
       "\n",
       "    .dataframe tbody tr th {\n",
       "        vertical-align: top;\n",
       "    }\n",
       "\n",
       "    .dataframe thead th {\n",
       "        text-align: right;\n",
       "    }\n",
       "</style>\n",
       "<table border=\"1\" class=\"dataframe\">\n",
       "  <thead>\n",
       "    <tr style=\"text-align: right;\">\n",
       "      <th></th>\n",
       "      <th>User_ID</th>\n",
       "      <th>Product_ID</th>\n",
       "      <th>Gender</th>\n",
       "      <th>Age</th>\n",
       "      <th>Occupation</th>\n",
       "      <th>City_Category</th>\n",
       "      <th>Stay_In_Current_City_Years</th>\n",
       "      <th>Marital_Status</th>\n",
       "      <th>Product_Category_1</th>\n",
       "      <th>Product_Category_2</th>\n",
       "      <th>Product_Category_3</th>\n",
       "      <th>Purchase</th>\n",
       "    </tr>\n",
       "  </thead>\n",
       "  <tbody>\n",
       "    <tr>\n",
       "      <th>0</th>\n",
       "      <td>1000001</td>\n",
       "      <td>P00069042</td>\n",
       "      <td>F</td>\n",
       "      <td>0-17</td>\n",
       "      <td>10</td>\n",
       "      <td>A</td>\n",
       "      <td>2</td>\n",
       "      <td>0</td>\n",
       "      <td>3</td>\n",
       "      <td>NaN</td>\n",
       "      <td>NaN</td>\n",
       "      <td>8370</td>\n",
       "    </tr>\n",
       "    <tr>\n",
       "      <th>1</th>\n",
       "      <td>1000001</td>\n",
       "      <td>P00248942</td>\n",
       "      <td>F</td>\n",
       "      <td>0-17</td>\n",
       "      <td>10</td>\n",
       "      <td>A</td>\n",
       "      <td>2</td>\n",
       "      <td>0</td>\n",
       "      <td>1</td>\n",
       "      <td>6.0</td>\n",
       "      <td>14.0</td>\n",
       "      <td>15200</td>\n",
       "    </tr>\n",
       "    <tr>\n",
       "      <th>2</th>\n",
       "      <td>1000001</td>\n",
       "      <td>P00087842</td>\n",
       "      <td>F</td>\n",
       "      <td>0-17</td>\n",
       "      <td>10</td>\n",
       "      <td>A</td>\n",
       "      <td>2</td>\n",
       "      <td>0</td>\n",
       "      <td>12</td>\n",
       "      <td>NaN</td>\n",
       "      <td>NaN</td>\n",
       "      <td>1422</td>\n",
       "    </tr>\n",
       "    <tr>\n",
       "      <th>3</th>\n",
       "      <td>1000001</td>\n",
       "      <td>P00085442</td>\n",
       "      <td>F</td>\n",
       "      <td>0-17</td>\n",
       "      <td>10</td>\n",
       "      <td>A</td>\n",
       "      <td>2</td>\n",
       "      <td>0</td>\n",
       "      <td>12</td>\n",
       "      <td>14.0</td>\n",
       "      <td>NaN</td>\n",
       "      <td>1057</td>\n",
       "    </tr>\n",
       "    <tr>\n",
       "      <th>4</th>\n",
       "      <td>1000002</td>\n",
       "      <td>P00285442</td>\n",
       "      <td>M</td>\n",
       "      <td>55+</td>\n",
       "      <td>16</td>\n",
       "      <td>C</td>\n",
       "      <td>4+</td>\n",
       "      <td>0</td>\n",
       "      <td>8</td>\n",
       "      <td>NaN</td>\n",
       "      <td>NaN</td>\n",
       "      <td>7969</td>\n",
       "    </tr>\n",
       "  </tbody>\n",
       "</table>\n",
       "</div>"
      ],
      "text/plain": [
       "   User_ID Product_ID Gender   Age  Occupation City_Category  \\\n",
       "0  1000001  P00069042      F  0-17          10             A   \n",
       "1  1000001  P00248942      F  0-17          10             A   \n",
       "2  1000001  P00087842      F  0-17          10             A   \n",
       "3  1000001  P00085442      F  0-17          10             A   \n",
       "4  1000002  P00285442      M   55+          16             C   \n",
       "\n",
       "  Stay_In_Current_City_Years  Marital_Status  Product_Category_1  \\\n",
       "0                          2               0                   3   \n",
       "1                          2               0                   1   \n",
       "2                          2               0                  12   \n",
       "3                          2               0                  12   \n",
       "4                         4+               0                   8   \n",
       "\n",
       "   Product_Category_2  Product_Category_3  Purchase  \n",
       "0                 NaN                 NaN      8370  \n",
       "1                 6.0                14.0     15200  \n",
       "2                 NaN                 NaN      1422  \n",
       "3                14.0                 NaN      1057  \n",
       "4                 NaN                 NaN      7969  "
      ]
     },
     "execution_count": 3,
     "metadata": {},
     "output_type": "execute_result"
    }
   ],
   "source": [
    "Data.head()"
   ]
  },
  {
   "cell_type": "code",
   "execution_count": 4,
   "id": "38e8bba9",
   "metadata": {},
   "outputs": [
    {
     "name": "stdout",
     "output_type": "stream",
     "text": [
      "<class 'pandas.core.frame.DataFrame'>\n",
      "RangeIndex: 550068 entries, 0 to 550067\n",
      "Data columns (total 12 columns):\n",
      " #   Column                      Non-Null Count   Dtype  \n",
      "---  ------                      --------------   -----  \n",
      " 0   User_ID                     550068 non-null  int64  \n",
      " 1   Product_ID                  550068 non-null  object \n",
      " 2   Gender                      550068 non-null  object \n",
      " 3   Age                         550068 non-null  object \n",
      " 4   Occupation                  550068 non-null  int64  \n",
      " 5   City_Category               550068 non-null  object \n",
      " 6   Stay_In_Current_City_Years  550068 non-null  object \n",
      " 7   Marital_Status              550068 non-null  int64  \n",
      " 8   Product_Category_1          550068 non-null  int64  \n",
      " 9   Product_Category_2          376430 non-null  float64\n",
      " 10  Product_Category_3          166821 non-null  float64\n",
      " 11  Purchase                    550068 non-null  int64  \n",
      "dtypes: float64(2), int64(5), object(5)\n",
      "memory usage: 50.4+ MB\n"
     ]
    }
   ],
   "source": [
    "Data.info()"
   ]
  },
  {
   "cell_type": "code",
   "execution_count": 5,
   "id": "9e27d8e3",
   "metadata": {},
   "outputs": [
    {
     "data": {
      "text/plain": [
       "(550068, 12)"
      ]
     },
     "execution_count": 5,
     "metadata": {},
     "output_type": "execute_result"
    }
   ],
   "source": [
    "## dimensions of the dataset\n",
    "Data.shape"
   ]
  },
  {
   "cell_type": "markdown",
   "id": "8761a5de",
   "metadata": {},
   "source": [
    "## Visualization"
   ]
  },
  {
   "cell_type": "markdown",
   "id": "1dfe589f",
   "metadata": {},
   "source": [
    "##### Comment : As we know that \"Product Id\" and \"User_ID\" both are not usable for eda ,so we drop them. "
   ]
  },
  {
   "cell_type": "code",
   "execution_count": 5,
   "id": "6a7e4833",
   "metadata": {},
   "outputs": [],
   "source": [
    "Data.drop (columns = ['User_ID', 'Product_ID'], inplace = True)"
   ]
  },
  {
   "cell_type": "code",
   "execution_count": 6,
   "id": "9ec9ad0c",
   "metadata": {},
   "outputs": [
    {
     "data": {
      "text/plain": [
       "M    414259\n",
       "F    135809\n",
       "Name: Gender, dtype: int64"
      ]
     },
     "execution_count": 6,
     "metadata": {},
     "output_type": "execute_result"
    }
   ],
   "source": [
    "Data ['Gender'].value_counts(dropna = False)"
   ]
  },
  {
   "cell_type": "code",
   "execution_count": 7,
   "id": "01f2b430",
   "metadata": {},
   "outputs": [
    {
     "data": {
      "text/plain": [
       "26-35    219587\n",
       "36-45    110013\n",
       "18-25     99660\n",
       "46-50     45701\n",
       "51-55     38501\n",
       "55+       21504\n",
       "0-17      15102\n",
       "Name: Age, dtype: int64"
      ]
     },
     "execution_count": 7,
     "metadata": {},
     "output_type": "execute_result"
    }
   ],
   "source": [
    "Data ['Age'].value_counts(dropna = False)"
   ]
  },
  {
   "cell_type": "code",
   "execution_count": 8,
   "id": "19f6e6b8",
   "metadata": {},
   "outputs": [
    {
     "data": {
      "text/plain": [
       "Text(0.5, 1.0, 'Diversity of the Ages of Customers.')"
      ]
     },
     "execution_count": 8,
     "metadata": {},
     "output_type": "execute_result"
    },
    {
     "data": {
      "image/png": "[encoded data removed]",
      "text/plain": [
       "<Figure size 864x432 with 1 Axes>"
      ]
     },
     "metadata": {
      "needs_background": "light"
     },
     "output_type": "display_data"
    }
   ],
   "source": [
    "plt.figure(figsize=(12,6))\n",
    "sns.countplot(x='Age',data=Data, palette='rocket_r')\n",
    "plt.title(\"Diversity of the Ages of Customers.\", size =15)"
   ]
  },
  {
   "cell_type": "markdown",
   "id": "df462111",
   "metadata": {},
   "source": [
    "ANALYSIS: As per the above analysis, we can see various age groups, but the youth are participating the most.\n"
   ]
  },
  {
   "cell_type": "code",
   "execution_count": 9,
   "id": "96691ad1",
   "metadata": {},
   "outputs": [
    {
     "data": {
      "text/plain": [
       "5     150933\n",
       "1     140378\n",
       "8     113925\n",
       "11     24287\n",
       "2      23864\n",
       "6      20466\n",
       "3      20213\n",
       "4      11753\n",
       "16      9828\n",
       "15      6290\n",
       "13      5549\n",
       "10      5125\n",
       "12      3947\n",
       "7       3721\n",
       "18      3125\n",
       "20      2550\n",
       "19      1603\n",
       "14      1523\n",
       "17       578\n",
       "9        410\n",
       "Name: Product_Category_1, dtype: int64"
      ]
     },
     "execution_count": 9,
     "metadata": {},
     "output_type": "execute_result"
    }
   ],
   "source": [
    "Data ['Product_Category_1'].value_counts(dropna = False)"
   ]
  },
  {
   "cell_type": "code",
   "execution_count": 10,
   "id": "ad5a79a4",
   "metadata": {},
   "outputs": [
    {
     "data": {
      "text/plain": [
       "<AxesSubplot:>"
      ]
     },
     "execution_count": 10,
     "metadata": {},
     "output_type": "execute_result"
    },
    {
     "data": {
      "image/png": "[encoded data removed]",
      "text/plain": [
       "<Figure size 432x288 with 1 Axes>"
      ]
     },
     "metadata": {
      "needs_background": "light"
     },
     "output_type": "display_data"
    }
   ],
   "source": [
    "Data ['Product_Category_1'].value_counts().plot(kind ='bar')"
   ]
  },
  {
   "cell_type": "markdown",
   "id": "bb55e0b0",
   "metadata": {},
   "source": [
    "Comment : As per the above analysis category 5 of 'Product_Catergory_1' has the maximum count which is 150933 and category 9 has the minimum count which is 410. As of now we cannot assume that which kind of product falls under this category."
   ]
  },
  {
   "cell_type": "code",
   "execution_count": 11,
   "id": "66324cc0",
   "metadata": {},
   "outputs": [
    {
     "data": {
      "text/plain": [
       "<AxesSubplot:>"
      ]
     },
     "execution_count": 11,
     "metadata": {},
     "output_type": "execute_result"
    },
    {
     "data": {
      "image/png": "[encoded data removed]",
      "text/plain": [
       "<Figure size 432x288 with 1 Axes>"
      ]
     },
     "metadata": {
      "needs_background": "light"
     },
     "output_type": "display_data"
    }
   ],
   "source": [
    "Data ['Product_Category_2'].value_counts(dropna = False).plot (kind ='bar')"
   ]
  },
  {
   "cell_type": "code",
   "execution_count": 12,
   "id": "95e341bd",
   "metadata": {},
   "outputs": [
    {
     "data": {
      "text/plain": [
       "<AxesSubplot:>"
      ]
     },
     "execution_count": 12,
     "metadata": {},
     "output_type": "execute_result"
    },
    {
     "data": {
      "image/png": "[encoded data removed]",
      "text/plain": [
       "<Figure size 432x288 with 1 Axes>"
      ]
     },
     "metadata": {
      "needs_background": "light"
     },
     "output_type": "display_data"
    }
   ],
   "source": [
    "Data ['Product_Category_3'].value_counts(dropna = False).plot(kind = 'bar')"
   ]
  },
  {
   "cell_type": "markdown",
   "id": "a9aa7854",
   "metadata": {},
   "source": [
    "ANALYSIS : As per the above 2 graph's analysis, we can see that the maximum count of product categories are unknown, filled with NaN, means these are missing values. We can replace null values with a special number so as to predict the data correctly. We cannot drop the null values here."
   ]
  },
  {
   "cell_type": "code",
   "execution_count": 13,
   "id": "afae02a7",
   "metadata": {
    "scrolled": false
   },
   "outputs": [
    {
     "name": "stderr",
     "output_type": "stream",
     "text": [
      "C:\\python\\lib\\site-packages\\seaborn\\distributions.py:2557: FutureWarning: `distplot` is a deprecated function and will be removed in a future version. Please adapt your code to use either `displot` (a figure-level function with similar flexibility) or `histplot` (an axes-level function for histograms).\n",
      "  warnings.warn(msg, FutureWarning)\n"
     ]
    },
    {
     "data": {
      "text/plain": [
       "<AxesSubplot:title={'center':'Plotting the Purchase during the Black Friday sale.'}, xlabel='Purchase', ylabel='Density'>"
      ]
     },
     "execution_count": 13,
     "metadata": {},
     "output_type": "execute_result"
    },
    {
     "data": {
      "image/png": "[encoded data removed]",
      "text/plain": [
       "<Figure size 720x432 with 1 Axes>"
      ]
     },
     "metadata": {
      "needs_background": "light"
     },
     "output_type": "display_data"
    }
   ],
   "source": [
    "plt.figure(figsize=(10, 6))\n",
    "plt.title('Plotting the Purchase during the Black Friday sale.', size = 15)\n",
    "sns.distplot(Data['Purchase'], bins=25 , color ='lightpink')"
   ]
  },
  {
   "cell_type": "markdown",
   "id": "085cc536",
   "metadata": {},
   "source": [
    "this plot is representing that maximum purchase is between 5000-10000."
   ]
  },
  {
   "cell_type": "code",
   "execution_count": 14,
   "id": "38dc7527",
   "metadata": {},
   "outputs": [
    {
     "data": {
      "text/plain": [
       "Text(0.5, 1.0, 'Types of cities regarding customers.')"
      ]
     },
     "execution_count": 14,
     "metadata": {},
     "output_type": "execute_result"
    },
    {
     "data": {
      "image/png": "[encoded data removed]",
      "text/plain": [
       "<Figure size 864x360 with 1 Axes>"
      ]
     },
     "metadata": {
      "needs_background": "light"
     },
     "output_type": "display_data"
    }
   ],
   "source": [
    "plt.figure(figsize=(12,5))\n",
    "sns.countplot(x='City_Category',data=Data, palette='vlag')\n",
    "plt.title(\"Types of cities regarding customers.\", size =15)"
   ]
  },
  {
   "cell_type": "code",
   "execution_count": 15,
   "id": "d6250f64",
   "metadata": {},
   "outputs": [
    {
     "data": {
      "image/png": "[encoded data removed]",
      "text/plain": [
       "<Figure size 1008x432 with 1 Axes>"
      ]
     },
     "metadata": {
      "needs_background": "light"
     },
     "output_type": "display_data"
    }
   ],
   "source": [
    "plt.figure(figsize=[14,6])\n",
    "\n",
    "sns.barplot(data=Data,x='Product_Category_1',y='Purchase',hue='Marital_Status')\n",
    "\n",
    "plt.title(\"Purchase of Product Category 1 according to Marital Status.\", size =15)\n",
    "\n",
    "plt.show()"
   ]
  },
  {
   "cell_type": "code",
   "execution_count": 16,
   "id": "0a39f71a",
   "metadata": {},
   "outputs": [
    {
     "data": {
      "text/plain": [
       "Text(0.5, 1.0, 'Staying in the city for years more than...')"
      ]
     },
     "execution_count": 16,
     "metadata": {},
     "output_type": "execute_result"
    },
    {
     "data": {
      "image/png": "[encoded data removed]",
      "text/plain": [
       "<Figure size 864x360 with 1 Axes>"
      ]
     },
     "metadata": {
      "needs_background": "light"
     },
     "output_type": "display_data"
    }
   ],
   "source": [
    "plt.figure(figsize=(12,5))\n",
    "sns.countplot(x='Stay_In_Current_City_Years',data=Data, palette='afmhot_r')\n",
    "sns.set_context('notebook')\n",
    "plt.title(\"Staying in the city for years more than...\", size =15)"
   ]
  },
  {
   "cell_type": "code",
   "execution_count": 17,
   "id": "1e80544f",
   "metadata": {},
   "outputs": [
    {
     "data": {
      "text/plain": [
       "Text(0.5, 1.0, 'Ratio of Purchase Made By Gender')"
      ]
     },
     "execution_count": 17,
     "metadata": {},
     "output_type": "execute_result"
    },
    {
     "data": {
      "image/png": "[encoded data removed]",
      "text/plain": [
       "<Figure size 360x360 with 1 Axes>"
      ]
     },
     "metadata": {},
     "output_type": "display_data"
    }
   ],
   "source": [
    "sns.set(style= \"darkgrid\")\n",
    "sns.catplot(x=\"Gender\", kind=\"count\",data=Data);\n",
    "plt.title('Ratio of Purchase Made By Gender', size =15)"
   ]
  },
  {
   "cell_type": "markdown",
   "id": "0f8e1386",
   "metadata": {},
   "source": [
    "### MISSING VALUE TREATMENT"
   ]
  },
  {
   "cell_type": "code",
   "execution_count": 18,
   "id": "2ca80938",
   "metadata": {},
   "outputs": [],
   "source": [
    "df2 = Data.copy()"
   ]
  },
  {
   "cell_type": "code",
   "execution_count": 19,
   "id": "d0f4d315",
   "metadata": {},
   "outputs": [],
   "source": [
    "## Replacing the missing values in Product_category 2 and 3 \n",
    "df2['Product_Category_2'] =df2['Product_Category_2'].fillna(999).astype('int64')\n",
    "df2['Product_Category_3'] =df2['Product_Category_3'].fillna(999).astype('int64')"
   ]
  },
  {
   "cell_type": "code",
   "execution_count": 20,
   "id": "a5ce524f",
   "metadata": {},
   "outputs": [],
   "source": [
    "# removing special characters, like (+) in Stay_In_Current_City_Years column\n",
    "df2['Stay_In_Current_City_Years'] =df2.Stay_In_Current_City_Years.replace('4+', 4)\n",
    "df2['Stay_In_Current_City_Years']=df2['Stay_In_Current_City_Years'].astype(int)"
   ]
  },
  {
   "cell_type": "code",
   "execution_count": 21,
   "id": "fee74035",
   "metadata": {},
   "outputs": [],
   "source": [
    "##Handling categorical feature Gender\n",
    "df2['Gender']=df2['Gender'].map({'F':0,'M':1})"
   ]
  },
  {
   "cell_type": "code",
   "execution_count": 22,
   "id": "1224c281",
   "metadata": {},
   "outputs": [
    {
     "data": {
      "text/plain": [
       "array(['0-17', '55+', '26-35', '46-50', '51-55', '36-45', '18-25'],\n",
       "      dtype=object)"
      ]
     },
     "execution_count": 22,
     "metadata": {},
     "output_type": "execute_result"
    }
   ],
   "source": [
    "## Handle categorical feature Age\n",
    "df2['Age'].unique()"
   ]
  },
  {
   "cell_type": "code",
   "execution_count": 23,
   "id": "d6c08fe8",
   "metadata": {},
   "outputs": [
    {
     "data": {
      "text/plain": [
       "array([0, 6, 2, 4, 5, 3, 1])"
      ]
     },
     "execution_count": 23,
     "metadata": {},
     "output_type": "execute_result"
    }
   ],
   "source": [
    "from sklearn import preprocessing\n",
    " \n",
    "# label_encoder object knows how to understand word labels.\n",
    "label_encoder = preprocessing.LabelEncoder()\n",
    " \n",
    "df2['Age']= label_encoder.fit_transform(df2['Age'])\n",
    " \n",
    "df2['Age'].unique()"
   ]
  },
  {
   "cell_type": "code",
   "execution_count": 24,
   "id": "e8b55ddc",
   "metadata": {},
   "outputs": [],
   "source": [
    "##fixing categorical feature City_category\n",
    "df2['City_Category']=df2['City_Category'].map({'A':1,'B':2, 'C':3})"
   ]
  },
  {
   "cell_type": "code",
   "execution_count": 25,
   "id": "08dac908",
   "metadata": {},
   "outputs": [
    {
     "data": {
      "text/html": [
       "<div>\n",
       "<style scoped>\n",
       "    .dataframe tbody tr th:only-of-type {\n",
       "        vertical-align: middle;\n",
       "    }\n",
       "\n",
       "    .dataframe tbody tr th {\n",
       "        vertical-align: top;\n",
       "    }\n",
       "\n",
       "    .dataframe thead th {\n",
       "        text-align: right;\n",
       "    }\n",
       "</style>\n",
       "<table border=\"1\" class=\"dataframe\">\n",
       "  <thead>\n",
       "    <tr style=\"text-align: right;\">\n",
       "      <th></th>\n",
       "      <th>Gender</th>\n",
       "      <th>Age</th>\n",
       "      <th>Occupation</th>\n",
       "      <th>City_Category</th>\n",
       "      <th>Stay_In_Current_City_Years</th>\n",
       "      <th>Marital_Status</th>\n",
       "      <th>Product_Category_1</th>\n",
       "      <th>Product_Category_2</th>\n",
       "      <th>Product_Category_3</th>\n",
       "      <th>Purchase</th>\n",
       "    </tr>\n",
       "  </thead>\n",
       "  <tbody>\n",
       "    <tr>\n",
       "      <th>0</th>\n",
       "      <td>0</td>\n",
       "      <td>0</td>\n",
       "      <td>10</td>\n",
       "      <td>1</td>\n",
       "      <td>2</td>\n",
       "      <td>0</td>\n",
       "      <td>3</td>\n",
       "      <td>999</td>\n",
       "      <td>999</td>\n",
       "      <td>8370</td>\n",
       "    </tr>\n",
       "    <tr>\n",
       "      <th>1</th>\n",
       "      <td>0</td>\n",
       "      <td>0</td>\n",
       "      <td>10</td>\n",
       "      <td>1</td>\n",
       "      <td>2</td>\n",
       "      <td>0</td>\n",
       "      <td>1</td>\n",
       "      <td>6</td>\n",
       "      <td>14</td>\n",
       "      <td>15200</td>\n",
       "    </tr>\n",
       "    <tr>\n",
       "      <th>2</th>\n",
       "      <td>0</td>\n",
       "      <td>0</td>\n",
       "      <td>10</td>\n",
       "      <td>1</td>\n",
       "      <td>2</td>\n",
       "      <td>0</td>\n",
       "      <td>12</td>\n",
       "      <td>999</td>\n",
       "      <td>999</td>\n",
       "      <td>1422</td>\n",
       "    </tr>\n",
       "    <tr>\n",
       "      <th>3</th>\n",
       "      <td>0</td>\n",
       "      <td>0</td>\n",
       "      <td>10</td>\n",
       "      <td>1</td>\n",
       "      <td>2</td>\n",
       "      <td>0</td>\n",
       "      <td>12</td>\n",
       "      <td>14</td>\n",
       "      <td>999</td>\n",
       "      <td>1057</td>\n",
       "    </tr>\n",
       "    <tr>\n",
       "      <th>4</th>\n",
       "      <td>1</td>\n",
       "      <td>6</td>\n",
       "      <td>16</td>\n",
       "      <td>3</td>\n",
       "      <td>4</td>\n",
       "      <td>0</td>\n",
       "      <td>8</td>\n",
       "      <td>999</td>\n",
       "      <td>999</td>\n",
       "      <td>7969</td>\n",
       "    </tr>\n",
       "  </tbody>\n",
       "</table>\n",
       "</div>"
      ],
      "text/plain": [
       "   Gender  Age  Occupation  City_Category  Stay_In_Current_City_Years  \\\n",
       "0       0    0          10              1                           2   \n",
       "1       0    0          10              1                           2   \n",
       "2       0    0          10              1                           2   \n",
       "3       0    0          10              1                           2   \n",
       "4       1    6          16              3                           4   \n",
       "\n",
       "   Marital_Status  Product_Category_1  Product_Category_2  Product_Category_3  \\\n",
       "0               0                   3                 999                 999   \n",
       "1               0                   1                   6                  14   \n",
       "2               0                  12                 999                 999   \n",
       "3               0                  12                  14                 999   \n",
       "4               0                   8                 999                 999   \n",
       "\n",
       "   Purchase  \n",
       "0      8370  \n",
       "1     15200  \n",
       "2      1422  \n",
       "3      1057  \n",
       "4      7969  "
      ]
     },
     "execution_count": 25,
     "metadata": {},
     "output_type": "execute_result"
    }
   ],
   "source": [
    "df2.head()"
   ]
  },
  {
   "cell_type": "code",
   "execution_count": 26,
   "id": "6c5a98cb",
   "metadata": {},
   "outputs": [
    {
     "data": {
      "text/plain": [
       "Gender                        int64\n",
       "Age                           int32\n",
       "Occupation                    int64\n",
       "City_Category                 int64\n",
       "Stay_In_Current_City_Years    int32\n",
       "Marital_Status                int64\n",
       "Product_Category_1            int64\n",
       "Product_Category_2            int64\n",
       "Product_Category_3            int64\n",
       "Purchase                      int64\n",
       "dtype: object"
      ]
     },
     "execution_count": 26,
     "metadata": {},
     "output_type": "execute_result"
    }
   ],
   "source": [
    "df2.dtypes"
   ]
  },
  {
   "cell_type": "markdown",
   "id": "24998d06",
   "metadata": {},
   "source": [
    "## outlier treatment"
   ]
  },
  {
   "cell_type": "code",
   "execution_count": 27,
   "id": "0ec0bbf6",
   "metadata": {},
   "outputs": [
    {
     "data": {
      "text/html": [
       "<div>\n",
       "<style scoped>\n",
       "    .dataframe tbody tr th:only-of-type {\n",
       "        vertical-align: middle;\n",
       "    }\n",
       "\n",
       "    .dataframe tbody tr th {\n",
       "        vertical-align: top;\n",
       "    }\n",
       "\n",
       "    .dataframe thead th {\n",
       "        text-align: right;\n",
       "    }\n",
       "</style>\n",
       "<table border=\"1\" class=\"dataframe\">\n",
       "  <thead>\n",
       "    <tr style=\"text-align: right;\">\n",
       "      <th></th>\n",
       "      <th>count</th>\n",
       "      <th>mean</th>\n",
       "      <th>std</th>\n",
       "      <th>min</th>\n",
       "      <th>1%</th>\n",
       "      <th>2%</th>\n",
       "      <th>3%</th>\n",
       "      <th>4%</th>\n",
       "      <th>5%</th>\n",
       "      <th>10%</th>\n",
       "      <th>25%</th>\n",
       "      <th>50%</th>\n",
       "      <th>75%</th>\n",
       "      <th>90%</th>\n",
       "      <th>95%</th>\n",
       "      <th>96%</th>\n",
       "      <th>97%</th>\n",
       "      <th>98%</th>\n",
       "      <th>99%</th>\n",
       "      <th>max</th>\n",
       "    </tr>\n",
       "  </thead>\n",
       "  <tbody>\n",
       "    <tr>\n",
       "      <th>Gender</th>\n",
       "      <td>550068.0</td>\n",
       "      <td>0.753105</td>\n",
       "      <td>0.431205</td>\n",
       "      <td>0.0</td>\n",
       "      <td>0.0</td>\n",
       "      <td>0.0</td>\n",
       "      <td>0.0</td>\n",
       "      <td>0.0</td>\n",
       "      <td>0.0</td>\n",
       "      <td>0.0</td>\n",
       "      <td>1.0</td>\n",
       "      <td>1.0</td>\n",
       "      <td>1.0</td>\n",
       "      <td>1.0</td>\n",
       "      <td>1.0</td>\n",
       "      <td>1.0</td>\n",
       "      <td>1.0</td>\n",
       "      <td>1.00</td>\n",
       "      <td>1.0</td>\n",
       "      <td>1.0</td>\n",
       "    </tr>\n",
       "    <tr>\n",
       "      <th>Age</th>\n",
       "      <td>550068.0</td>\n",
       "      <td>2.496430</td>\n",
       "      <td>1.353632</td>\n",
       "      <td>0.0</td>\n",
       "      <td>0.0</td>\n",
       "      <td>0.0</td>\n",
       "      <td>1.0</td>\n",
       "      <td>1.0</td>\n",
       "      <td>1.0</td>\n",
       "      <td>1.0</td>\n",
       "      <td>2.0</td>\n",
       "      <td>2.0</td>\n",
       "      <td>3.0</td>\n",
       "      <td>5.0</td>\n",
       "      <td>5.0</td>\n",
       "      <td>5.0</td>\n",
       "      <td>6.0</td>\n",
       "      <td>6.00</td>\n",
       "      <td>6.0</td>\n",
       "      <td>6.0</td>\n",
       "    </tr>\n",
       "    <tr>\n",
       "      <th>Occupation</th>\n",
       "      <td>550068.0</td>\n",
       "      <td>8.076707</td>\n",
       "      <td>6.522660</td>\n",
       "      <td>0.0</td>\n",
       "      <td>0.0</td>\n",
       "      <td>0.0</td>\n",
       "      <td>0.0</td>\n",
       "      <td>0.0</td>\n",
       "      <td>0.0</td>\n",
       "      <td>0.0</td>\n",
       "      <td>2.0</td>\n",
       "      <td>7.0</td>\n",
       "      <td>14.0</td>\n",
       "      <td>17.0</td>\n",
       "      <td>20.0</td>\n",
       "      <td>20.0</td>\n",
       "      <td>20.0</td>\n",
       "      <td>20.00</td>\n",
       "      <td>20.0</td>\n",
       "      <td>20.0</td>\n",
       "    </tr>\n",
       "    <tr>\n",
       "      <th>City_Category</th>\n",
       "      <td>550068.0</td>\n",
       "      <td>2.042640</td>\n",
       "      <td>0.760211</td>\n",
       "      <td>1.0</td>\n",
       "      <td>1.0</td>\n",
       "      <td>1.0</td>\n",
       "      <td>1.0</td>\n",
       "      <td>1.0</td>\n",
       "      <td>1.0</td>\n",
       "      <td>1.0</td>\n",
       "      <td>1.0</td>\n",
       "      <td>2.0</td>\n",
       "      <td>3.0</td>\n",
       "      <td>3.0</td>\n",
       "      <td>3.0</td>\n",
       "      <td>3.0</td>\n",
       "      <td>3.0</td>\n",
       "      <td>3.00</td>\n",
       "      <td>3.0</td>\n",
       "      <td>3.0</td>\n",
       "    </tr>\n",
       "    <tr>\n",
       "      <th>Stay_In_Current_City_Years</th>\n",
       "      <td>550068.0</td>\n",
       "      <td>1.858418</td>\n",
       "      <td>1.289443</td>\n",
       "      <td>0.0</td>\n",
       "      <td>0.0</td>\n",
       "      <td>0.0</td>\n",
       "      <td>0.0</td>\n",
       "      <td>0.0</td>\n",
       "      <td>0.0</td>\n",
       "      <td>0.0</td>\n",
       "      <td>1.0</td>\n",
       "      <td>2.0</td>\n",
       "      <td>3.0</td>\n",
       "      <td>4.0</td>\n",
       "      <td>4.0</td>\n",
       "      <td>4.0</td>\n",
       "      <td>4.0</td>\n",
       "      <td>4.00</td>\n",
       "      <td>4.0</td>\n",
       "      <td>4.0</td>\n",
       "    </tr>\n",
       "    <tr>\n",
       "      <th>Marital_Status</th>\n",
       "      <td>550068.0</td>\n",
       "      <td>0.409653</td>\n",
       "      <td>0.491770</td>\n",
       "      <td>0.0</td>\n",
       "      <td>0.0</td>\n",
       "      <td>0.0</td>\n",
       "      <td>0.0</td>\n",
       "      <td>0.0</td>\n",
       "      <td>0.0</td>\n",
       "      <td>0.0</td>\n",
       "      <td>0.0</td>\n",
       "      <td>0.0</td>\n",
       "      <td>1.0</td>\n",
       "      <td>1.0</td>\n",
       "      <td>1.0</td>\n",
       "      <td>1.0</td>\n",
       "      <td>1.0</td>\n",
       "      <td>1.00</td>\n",
       "      <td>1.0</td>\n",
       "      <td>1.0</td>\n",
       "    </tr>\n",
       "    <tr>\n",
       "      <th>Product_Category_1</th>\n",
       "      <td>550068.0</td>\n",
       "      <td>5.404270</td>\n",
       "      <td>3.936211</td>\n",
       "      <td>1.0</td>\n",
       "      <td>1.0</td>\n",
       "      <td>1.0</td>\n",
       "      <td>1.0</td>\n",
       "      <td>1.0</td>\n",
       "      <td>1.0</td>\n",
       "      <td>1.0</td>\n",
       "      <td>1.0</td>\n",
       "      <td>5.0</td>\n",
       "      <td>8.0</td>\n",
       "      <td>11.0</td>\n",
       "      <td>13.0</td>\n",
       "      <td>15.0</td>\n",
       "      <td>16.0</td>\n",
       "      <td>16.00</td>\n",
       "      <td>18.0</td>\n",
       "      <td>20.0</td>\n",
       "    </tr>\n",
       "    <tr>\n",
       "      <th>Product_Category_2</th>\n",
       "      <td>550068.0</td>\n",
       "      <td>322.086197</td>\n",
       "      <td>459.761105</td>\n",
       "      <td>2.0</td>\n",
       "      <td>2.0</td>\n",
       "      <td>2.0</td>\n",
       "      <td>2.0</td>\n",
       "      <td>2.0</td>\n",
       "      <td>2.0</td>\n",
       "      <td>4.0</td>\n",
       "      <td>8.0</td>\n",
       "      <td>14.0</td>\n",
       "      <td>999.0</td>\n",
       "      <td>999.0</td>\n",
       "      <td>999.0</td>\n",
       "      <td>999.0</td>\n",
       "      <td>999.0</td>\n",
       "      <td>999.00</td>\n",
       "      <td>999.0</td>\n",
       "      <td>999.0</td>\n",
       "    </tr>\n",
       "    <tr>\n",
       "      <th>Product_Category_3</th>\n",
       "      <td>550068.0</td>\n",
       "      <td>699.871801</td>\n",
       "      <td>453.395520</td>\n",
       "      <td>3.0</td>\n",
       "      <td>5.0</td>\n",
       "      <td>5.0</td>\n",
       "      <td>5.0</td>\n",
       "      <td>6.0</td>\n",
       "      <td>8.0</td>\n",
       "      <td>12.0</td>\n",
       "      <td>16.0</td>\n",
       "      <td>999.0</td>\n",
       "      <td>999.0</td>\n",
       "      <td>999.0</td>\n",
       "      <td>999.0</td>\n",
       "      <td>999.0</td>\n",
       "      <td>999.0</td>\n",
       "      <td>999.00</td>\n",
       "      <td>999.0</td>\n",
       "      <td>999.0</td>\n",
       "    </tr>\n",
       "    <tr>\n",
       "      <th>Purchase</th>\n",
       "      <td>550068.0</td>\n",
       "      <td>9263.968713</td>\n",
       "      <td>5023.065394</td>\n",
       "      <td>12.0</td>\n",
       "      <td>587.0</td>\n",
       "      <td>954.0</td>\n",
       "      <td>1574.0</td>\n",
       "      <td>1789.0</td>\n",
       "      <td>1984.0</td>\n",
       "      <td>3540.0</td>\n",
       "      <td>5823.0</td>\n",
       "      <td>8047.0</td>\n",
       "      <td>12054.0</td>\n",
       "      <td>16317.0</td>\n",
       "      <td>19336.0</td>\n",
       "      <td>19480.0</td>\n",
       "      <td>19628.0</td>\n",
       "      <td>20202.66</td>\n",
       "      <td>20665.0</td>\n",
       "      <td>23961.0</td>\n",
       "    </tr>\n",
       "  </tbody>\n",
       "</table>\n",
       "</div>"
      ],
      "text/plain": [
       "                               count         mean          std   min     1%  \\\n",
       "Gender                      550068.0     0.753105     0.431205   0.0    0.0   \n",
       "Age                         550068.0     2.496430     1.353632   0.0    0.0   \n",
       "Occupation                  550068.0     8.076707     6.522660   0.0    0.0   \n",
       "City_Category               550068.0     2.042640     0.760211   1.0    1.0   \n",
       "Stay_In_Current_City_Years  550068.0     1.858418     1.289443   0.0    0.0   \n",
       "Marital_Status              550068.0     0.409653     0.491770   0.0    0.0   \n",
       "Product_Category_1          550068.0     5.404270     3.936211   1.0    1.0   \n",
       "Product_Category_2          550068.0   322.086197   459.761105   2.0    2.0   \n",
       "Product_Category_3          550068.0   699.871801   453.395520   3.0    5.0   \n",
       "Purchase                    550068.0  9263.968713  5023.065394  12.0  587.0   \n",
       "\n",
       "                               2%      3%      4%      5%     10%     25%  \\\n",
       "Gender                        0.0     0.0     0.0     0.0     0.0     1.0   \n",
       "Age                           0.0     1.0     1.0     1.0     1.0     2.0   \n",
       "Occupation                    0.0     0.0     0.0     0.0     0.0     2.0   \n",
       "City_Category                 1.0     1.0     1.0     1.0     1.0     1.0   \n",
       "Stay_In_Current_City_Years    0.0     0.0     0.0     0.0     0.0     1.0   \n",
       "Marital_Status                0.0     0.0     0.0     0.0     0.0     0.0   \n",
       "Product_Category_1            1.0     1.0     1.0     1.0     1.0     1.0   \n",
       "Product_Category_2            2.0     2.0     2.0     2.0     4.0     8.0   \n",
       "Product_Category_3            5.0     5.0     6.0     8.0    12.0    16.0   \n",
       "Purchase                    954.0  1574.0  1789.0  1984.0  3540.0  5823.0   \n",
       "\n",
       "                               50%      75%      90%      95%      96%  \\\n",
       "Gender                         1.0      1.0      1.0      1.0      1.0   \n",
       "Age                            2.0      3.0      5.0      5.0      5.0   \n",
       "Occupation                     7.0     14.0     17.0     20.0     20.0   \n",
       "City_Category                  2.0      3.0      3.0      3.0      3.0   \n",
       "Stay_In_Current_City_Years     2.0      3.0      4.0      4.0      4.0   \n",
       "Marital_Status                 0.0      1.0      1.0      1.0      1.0   \n",
       "Product_Category_1             5.0      8.0     11.0     13.0     15.0   \n",
       "Product_Category_2            14.0    999.0    999.0    999.0    999.0   \n",
       "Product_Category_3           999.0    999.0    999.0    999.0    999.0   \n",
       "Purchase                    8047.0  12054.0  16317.0  19336.0  19480.0   \n",
       "\n",
       "                                97%       98%      99%      max  \n",
       "Gender                          1.0      1.00      1.0      1.0  \n",
       "Age                             6.0      6.00      6.0      6.0  \n",
       "Occupation                     20.0     20.00     20.0     20.0  \n",
       "City_Category                   3.0      3.00      3.0      3.0  \n",
       "Stay_In_Current_City_Years      4.0      4.00      4.0      4.0  \n",
       "Marital_Status                  1.0      1.00      1.0      1.0  \n",
       "Product_Category_1             16.0     16.00     18.0     20.0  \n",
       "Product_Category_2            999.0    999.00    999.0    999.0  \n",
       "Product_Category_3            999.0    999.00    999.0    999.0  \n",
       "Purchase                    19628.0  20202.66  20665.0  23961.0  "
      ]
     },
     "execution_count": 27,
     "metadata": {},
     "output_type": "execute_result"
    }
   ],
   "source": [
    "df2.describe(percentiles=[0.01, 0.02, 0.03, 0.04, 0.05, .1, .25,.5,.75, .9,.95, .96, .97, .98, .99]).T"
   ]
  },
  {
   "cell_type": "code",
   "execution_count": 28,
   "id": "d393460b",
   "metadata": {},
   "outputs": [
    {
     "data": {
      "text/plain": [
       "Gender                            2.046721\n",
       "Age                               6.557324\n",
       "Occupation                       27.644688\n",
       "City_Category                     4.323272\n",
       "Stay_In_Current_City_Years        5.726745\n",
       "Marital_Status                    1.884963\n",
       "Product_Category_1               17.212904\n",
       "Product_Category_2             1701.369513\n",
       "Product_Category_3             2060.058361\n",
       "Purchase                      24333.164894\n",
       "dtype: float64"
      ]
     },
     "execution_count": 28,
     "metadata": {},
     "output_type": "execute_result"
    }
   ],
   "source": [
    "df2.mean() + 3*df2.std()"
   ]
  },
  {
   "cell_type": "markdown",
   "id": "963185ff",
   "metadata": {},
   "source": [
    "No outliers present in the data"
   ]
  },
  {
   "cell_type": "markdown",
   "id": "c992afff",
   "metadata": {},
   "source": [
    "## Correlation matrix"
   ]
  },
  {
   "cell_type": "code",
   "execution_count": 29,
   "id": "63e6b152",
   "metadata": {},
   "outputs": [
    {
     "data": {
      "image/png": "[encoded data removed]",
      "text/plain": [
       "<Figure size 1440x864 with 2 Axes>"
      ]
     },
     "metadata": {},
     "output_type": "display_data"
    }
   ],
   "source": [
    "corr_matrix = df2.corr() \n",
    "#filter correlation values above 0.5\n",
    "filter_corr = corr_matrix[corr_matrix > 0.5]\n",
    "#plot correlation matrix\n",
    "plt.figure(figsize=(20,12))\n",
    "sns.heatmap(filter_corr,\n",
    "            cmap='coolwarm',\n",
    "            annot=True);"
   ]
  },
  {
   "cell_type": "markdown",
   "id": "a1df769a",
   "metadata": {},
   "source": [
    "No multicollinearity in the data"
   ]
  },
  {
   "cell_type": "code",
   "execution_count": 30,
   "id": "dccdda28",
   "metadata": {},
   "outputs": [
    {
     "name": "stderr",
     "output_type": "stream",
     "text": [
      "C:\\python\\lib\\site-packages\\seaborn\\distributions.py:2557: FutureWarning: `distplot` is a deprecated function and will be removed in a future version. Please adapt your code to use either `displot` (a figure-level function with similar flexibility) or `histplot` (an axes-level function for histograms).\n",
      "  warnings.warn(msg, FutureWarning)\n",
      "C:\\python\\lib\\site-packages\\seaborn\\distributions.py:2557: FutureWarning: `distplot` is a deprecated function and will be removed in a future version. Please adapt your code to use either `displot` (a figure-level function with similar flexibility) or `histplot` (an axes-level function for histograms).\n",
      "  warnings.warn(msg, FutureWarning)\n",
      "C:\\python\\lib\\site-packages\\seaborn\\distributions.py:2557: FutureWarning: `distplot` is a deprecated function and will be removed in a future version. Please adapt your code to use either `displot` (a figure-level function with similar flexibility) or `histplot` (an axes-level function for histograms).\n",
      "  warnings.warn(msg, FutureWarning)\n"
     ]
    },
    {
     "data": {
      "image/png": "[encoded data removed]",
      "text/plain": [
       "<Figure size 432x288 with 3 Axes>"
      ]
     },
     "metadata": {},
     "output_type": "display_data"
    }
   ],
   "source": [
    "plt.subplot(131)\n",
    "sns.distplot(df2[\"Purchase\"])\n",
    "\n",
    "plt.subplot(132)\n",
    "sns.distplot(np.log(df2[\"Purchase\"]))\n",
    "\n",
    "plt.subplot(133)\n",
    "sns.distplot(np.sqrt(df2[\"Purchase\"]))\n",
    "\n",
    "plt.show()"
   ]
  },
  {
   "cell_type": "markdown",
   "id": "c0e92fb2",
   "metadata": {},
   "source": [
    "Normal distribution is not followed in the data so we cannot use linear regression as the error will be very big."
   ]
  },
  {
   "cell_type": "markdown",
   "id": "97b2b867",
   "metadata": {},
   "source": [
    "#### ALGORITHM - LINEAR REGRESSION"
   ]
  },
  {
   "cell_type": "code",
   "execution_count": 31,
   "id": "71326844",
   "metadata": {},
   "outputs": [],
   "source": [
    "#Splitting the DATA\n",
    "y=df2[\"Purchase\"]\n",
    "X=df2.drop(columns=[\"Purchase\"])"
   ]
  },
  {
   "cell_type": "code",
   "execution_count": 36,
   "id": "0cfb304a",
   "metadata": {},
   "outputs": [],
   "source": [
    "from sklearn.model_selection import train_test_split\n",
    "from sklearn.linear_model import LinearRegression"
   ]
  },
  {
   "cell_type": "code",
   "execution_count": 37,
   "id": "e8277321",
   "metadata": {},
   "outputs": [],
   "source": [
    "X_train , X_test, y_train , y_test=train_test_split(X,y, test_size=0.3, random_state=70)"
   ]
  },
  {
   "cell_type": "code",
   "execution_count": 38,
   "id": "47cefeb1",
   "metadata": {},
   "outputs": [],
   "source": [
    "LR = LinearRegression()"
   ]
  },
  {
   "cell_type": "code",
   "execution_count": 39,
   "id": "632cc8da",
   "metadata": {},
   "outputs": [
    {
     "data": {
      "text/plain": [
       "LinearRegression()"
      ]
     },
     "execution_count": 39,
     "metadata": {},
     "output_type": "execute_result"
    }
   ],
   "source": [
    "LR.fit(X_train, y_train)"
   ]
  },
  {
   "cell_type": "code",
   "execution_count": 40,
   "id": "ac8427ea",
   "metadata": {},
   "outputs": [
    {
     "name": "stdout",
     "output_type": "stream",
     "text": [
      " LR Train Score : 0.1572864174813834\n",
      "LR Test Score : 0.15795422729668973\n"
     ]
    }
   ],
   "source": [
    "print(\" LR Train Score :\", LR.score(X_train, y_train))\n",
    "print(\"LR Test Score :\", LR.score(X_test, y_test))"
   ]
  },
  {
   "cell_type": "code",
   "execution_count": 41,
   "id": "28868ffb",
   "metadata": {},
   "outputs": [
    {
     "data": {
      "text/plain": [
       "array([11084.19265494,  8236.51524425,  9747.45123624, ...,\n",
       "        5295.17794962,  7868.3225426 ,  7409.2410985 ])"
      ]
     },
     "execution_count": 41,
     "metadata": {},
     "output_type": "execute_result"
    }
   ],
   "source": [
    "y_pred_train=LR.predict(X_train)\n",
    "y_pred_train"
   ]
  },
  {
   "cell_type": "code",
   "execution_count": 42,
   "id": "10ef5129",
   "metadata": {},
   "outputs": [
    {
     "data": {
      "text/plain": [
       "array([ 8390.94289238, 12555.09916021,  9430.30151309, ...,\n",
       "        8609.69211823,  5840.91403904, 12555.8045685 ])"
      ]
     },
     "execution_count": 42,
     "metadata": {},
     "output_type": "execute_result"
    }
   ],
   "source": [
    "y_pred_test=LR.predict(X_test)\n",
    "y_pred_test"
   ]
  },
  {
   "cell_type": "code",
   "execution_count": 43,
   "id": "6dce4217",
   "metadata": {},
   "outputs": [
    {
     "name": "stdout",
     "output_type": "stream",
     "text": [
      "Train MSE : 21269503.387116194\n",
      "Test MSE : 21229726.925213397\n"
     ]
    }
   ],
   "source": [
    "print(\"Train MSE :\", np.mean((y_train-y_pred_train)**2))\n",
    "print(\"Test MSE :\", np.mean((y_test-y_pred_test)**2))"
   ]
  },
  {
   "cell_type": "code",
   "execution_count": 44,
   "id": "82927d16",
   "metadata": {},
   "outputs": [
    {
     "name": "stdout",
     "output_type": "stream",
     "text": [
      "Train RMSE : 4611.887182826158\n",
      "Test RMSE : 4607.5727802405245\n"
     ]
    }
   ],
   "source": [
    "print(\"Train RMSE :\", np.sqrt(np.mean((y_train-y_pred_train)**2)))\n",
    "print(\"Test RMSE :\", np.sqrt(np.mean((y_test-y_pred_test)**2)))"
   ]
  },
  {
   "cell_type": "markdown",
   "id": "d60a1962",
   "metadata": {},
   "source": [
    "#### ALGORITHM - DECISION TREE [REGRESSOR]"
   ]
  },
  {
   "cell_type": "code",
   "execution_count": 45,
   "id": "4b6b40ff",
   "metadata": {},
   "outputs": [],
   "source": [
    "X_train, X_test, y_train, y_test=train_test_split(X,y, test_size=0.2, random_state=70)"
   ]
  },
  {
   "cell_type": "code",
   "execution_count": 46,
   "id": "c941dc8d",
   "metadata": {},
   "outputs": [],
   "source": [
    "from sklearn.tree import DecisionTreeRegressor"
   ]
  },
  {
   "cell_type": "code",
   "execution_count": 47,
   "id": "d8abfcfa",
   "metadata": {},
   "outputs": [
    {
     "name": "stdout",
     "output_type": "stream",
     "text": [
      "Train Accuracy: 0.8021590496851903\n",
      "Test Accuracy: 0.5615995642682973\n"
     ]
    }
   ],
   "source": [
    "DtR=DecisionTreeRegressor(random_state=89)\n",
    "\n",
    "DtR.fit(X_train, y_train)\n",
    "\n",
    "print(\"Train Accuracy:\", DtR.score(X_train,y_train))\n",
    "print(\"Test Accuracy:\", DtR.score(X_test,y_test))"
   ]
  },
  {
   "cell_type": "code",
   "execution_count": 48,
   "id": "fa853239",
   "metadata": {},
   "outputs": [
    {
     "name": "stdout",
     "output_type": "stream",
     "text": [
      "Train Accuracy: 0.6616284913569943\n",
      "Test Accuracy: 0.6554002142979675\n"
     ]
    }
   ],
   "source": [
    "DtR=DecisionTreeRegressor(max_depth=10,random_state=89)\n",
    "\n",
    "DtR.fit(X_train, y_train)\n",
    "\n",
    "print(\"Train Accuracy:\", DtR.score(X_train,y_train))\n",
    "print(\"Test Accuracy:\", DtR.score(X_test,y_test))"
   ]
  },
  {
   "cell_type": "code",
   "execution_count": 52,
   "id": "81aff4ca",
   "metadata": {},
   "outputs": [
    {
     "name": "stdout",
     "output_type": "stream",
     "text": [
      "Train Accuracy: 0.6616284913569943\n",
      "Test Accuracy: 0.6554002142979675\n"
     ]
    }
   ],
   "source": [
    "DtR1=DecisionTreeRegressor(max_depth=10,random_state=89, criterion='squared_error')\n",
    "\n",
    "DtR1.fit(X_train, y_train)\n",
    "\n",
    "print(\"Train Accuracy:\", DtR1.score(X_train,y_train))\n",
    "print(\"Test Accuracy:\", DtR1.score(X_test,y_test))"
   ]
  },
  {
   "cell_type": "code",
   "execution_count": 54,
   "id": "fd904737",
   "metadata": {},
   "outputs": [
    {
     "name": "stdout",
     "output_type": "stream",
     "text": [
      "Train Accuracy: 0.6616284913569943\n",
      "Test Accuracy: 0.6553976809821043\n"
     ]
    }
   ],
   "source": [
    "DtR2=DecisionTreeRegressor(max_depth=10,random_state=70,min_samples_split=2, min_samples_leaf=1,)\n",
    "\n",
    "DtR2.fit(X_train, y_train)\n",
    "\n",
    "print(\"Train Accuracy:\", DtR2.score(X_train,y_train))\n",
    "print(\"Test Accuracy:\", DtR2.score(X_test,y_test))"
   ]
  },
  {
   "cell_type": "code",
   "execution_count": 55,
   "id": "77beffc7",
   "metadata": {},
   "outputs": [
    {
     "name": "stdout",
     "output_type": "stream",
     "text": [
      "Train Accuracy: 0.6600750120170066\n",
      "Test Accuracy: 0.6565776674713772\n"
     ]
    }
   ],
   "source": [
    "DtR2=DecisionTreeRegressor(max_depth=10,random_state=70, min_samples_leaf=20 ,min_samples_split=150)\n",
    "\n",
    "DtR2.fit(X_train, y_train)\n",
    "\n",
    "print(\"Train Accuracy:\", DtR2.score(X_train,y_train))\n",
    "print(\"Test Accuracy:\", DtR2.score(X_test,y_test))"
   ]
  },
  {
   "cell_type": "markdown",
   "id": "1894dafa",
   "metadata": {},
   "source": [
    "#### hyperparameter tuning"
   ]
  },
  {
   "cell_type": "code",
   "execution_count": null,
   "id": "b461d26f",
   "metadata": {},
   "outputs": [
    {
     "name": "stdout",
     "output_type": "stream",
     "text": [
      "Fitting 5 folds for each of 10 candidates, totalling 50 fits\n"
     ]
    }
   ],
   "source": [
    "from sklearn.model_selection import RandomizedSearchCV\n",
    "\n",
    "param_grid_1 = {'max_depth': [5,10,20],\n",
    "                'min_samples_split': [50,100,150], \n",
    "                \"min_samples_leaf\" : [5,10,15,20],\n",
    "                'criterion': ['mse', 'mae']\n",
    "     \n",
    "               }\n",
    "\n",
    "dtr = DecisionTreeRegressor(random_state=70)\n",
    "\n",
    "dtr_grid = RandomizedSearchCV(dtr, param_grid_1, cv=5, verbose=1, n_jobs=-1)\n",
    "\n",
    "dtr_grid.fit(X_train, y_train)"
   ]
  },
  {
   "cell_type": "code",
   "execution_count": null,
   "id": "c66a817e",
   "metadata": {},
   "outputs": [],
   "source": [
    "dtr_grid.best_params_"
   ]
  },
  {
   "cell_type": "code",
   "execution_count": null,
   "id": "6cc31070",
   "metadata": {},
   "outputs": [],
   "source": [
    "dtr_grid.best_score_"
   ]
  },
  {
   "cell_type": "code",
   "execution_count": null,
   "id": "9655d10b",
   "metadata": {},
   "outputs": [],
   "source": [
    "DtR3=DecisionTreeRegressor(max_depth=dtr_grid.best_params_['max_depth'], \n",
    "                           criterion=dtr_grid.best_params_['criterion'], \n",
    "                           min_samples_split=dtr_grid.best_params_['min_samples_split'], \n",
    "                           min_samples_leaf=dtr_grid.best_params_['min_samples_leaf'])\n",
    "\n",
    "DtR3.fit(X_train, y_train)\n",
    "\n",
    "print(\"Train Accuracy:\", DtR3.score(X_train,y_train))\n",
    "print(\"Test Accuracy:\", DtR3.score(X_test,y_test))"
   ]
  },
  {
   "cell_type": "code",
   "execution_count": 56,
   "id": "439479a7",
   "metadata": {},
   "outputs": [
    {
     "data": {
      "text/plain": [
       "array([ 6028.65949676, 14063.56037736, 14486.28070175, ...,\n",
       "       14647.15088168,  7800.57272727,  7461.36706349])"
      ]
     },
     "execution_count": 56,
     "metadata": {},
     "output_type": "execute_result"
    }
   ],
   "source": [
    "y_pred_train=DtR2.predict(X_train)\n",
    "y_pred_train"
   ]
  },
  {
   "cell_type": "code",
   "execution_count": 57,
   "id": "e3d5bcd6",
   "metadata": {},
   "outputs": [
    {
     "data": {
      "text/plain": [
       "array([ 6805.91034483, 14453.68215054, 13973.54339623, ...,\n",
       "        7386.10235889, 13744.00860507,  7461.36706349])"
      ]
     },
     "execution_count": 57,
     "metadata": {},
     "output_type": "execute_result"
    }
   ],
   "source": [
    "y_pred_test=DtR2.predict(X_test)\n",
    "y_pred_test"
   ]
  },
  {
   "cell_type": "code",
   "execution_count": 58,
   "id": "28d91490",
   "metadata": {},
   "outputs": [
    {
     "name": "stdout",
     "output_type": "stream",
     "text": [
      "Train RMSE 2930.5648928622013\n",
      "Test RMSE 2935.7104112874617\n"
     ]
    }
   ],
   "source": [
    "print(\"Train RMSE\", np.sqrt(np.mean((y_train-y_pred_train)**2)))\n",
    "print(\"Test RMSE\", np.sqrt(np.mean((y_test-y_pred_test)**2)))"
   ]
  },
  {
   "cell_type": "code",
   "execution_count": null,
   "id": "b81ba74c",
   "metadata": {},
   "outputs": [],
   "source": []
  },
  {
   "cell_type": "markdown",
   "id": "dd827410",
   "metadata": {},
   "source": [
    "### ALGORITHM - RANDOM FOREST"
   ]
  },
  {
   "cell_type": "code",
   "execution_count": 59,
   "id": "fca46ec3",
   "metadata": {},
   "outputs": [],
   "source": [
    "from sklearn.ensemble import RandomForestRegressor"
   ]
  },
  {
   "cell_type": "code",
   "execution_count": 60,
   "id": "63408280",
   "metadata": {},
   "outputs": [],
   "source": [
    "Rf=RandomForestRegressor(max_depth=5, random_state=70)"
   ]
  },
  {
   "cell_type": "code",
   "execution_count": 61,
   "id": "2de6e58d",
   "metadata": {},
   "outputs": [],
   "source": [
    "#help(Rf)"
   ]
  },
  {
   "cell_type": "code",
   "execution_count": 62,
   "id": "f17a0394",
   "metadata": {},
   "outputs": [
    {
     "name": "stdout",
     "output_type": "stream",
     "text": [
      "Train Accuracy: 0.5802587169640961\n",
      "Test Accuracy: 0.5806733984786845\n"
     ]
    }
   ],
   "source": [
    "Rf.fit(X_train, y_train)\n",
    "\n",
    "print(\"Train Accuracy:\", Rf.score(X_train, y_train))\n",
    "print(\"Test Accuracy:\", Rf.score(X_test,y_test))"
   ]
  },
  {
   "cell_type": "code",
   "execution_count": 63,
   "id": "8a8cc30e",
   "metadata": {},
   "outputs": [
    {
     "name": "stdout",
     "output_type": "stream",
     "text": [
      "Train Accuracy: 0.6650374304866542\n",
      "Test Accuracy: 0.6593112082875552\n"
     ]
    }
   ],
   "source": [
    "Rf1=RandomForestRegressor(max_depth=10, random_state=70, min_samples_split=2, min_samples_leaf=1)\n",
    "Rf1.fit(X_train, y_train)\n",
    "\n",
    "print(\"Train Accuracy:\", Rf1.score(X_train, y_train))\n",
    "print(\"Test Accuracy:\", Rf1.score(X_test,y_test))"
   ]
  },
  {
   "cell_type": "code",
   "execution_count": 64,
   "id": "75bf158c",
   "metadata": {},
   "outputs": [
    {
     "name": "stdout",
     "output_type": "stream",
     "text": [
      "Train Accuracy : 0.662910380635729\n",
      "Test Accuracy : 0.6592074125001146\n"
     ]
    }
   ],
   "source": [
    "rf2=RandomForestRegressor(max_depth=10, random_state=70, min_samples_split=100, min_samples_leaf=1)\n",
    "rf2.fit(X_train, y_train)\n",
    "print(\"Train Accuracy :\", rf2.score(X_train,y_train))\n",
    "print(\"Test Accuracy :\", rf2.score(X_test,y_test))"
   ]
  },
  {
   "cell_type": "markdown",
   "id": "3693275c",
   "metadata": {},
   "source": [
    "#### hyperparameter tuning"
   ]
  },
  {
   "cell_type": "code",
   "execution_count": null,
   "id": "5f80f8c2",
   "metadata": {},
   "outputs": [],
   "source": [
    "from sklearn.model_selection import RandomizedSearchCV\n",
    "\n",
    "param_grid_1 = {'max_depth': [7,10,15],\n",
    "                'n_estimators':[25, 50, 100],\n",
    "                'min_samples_split': [50,100,150,200],\n",
    "                \"min_samples_leaf\" : [2,5,10]\n",
    "     \n",
    "               }\n",
    "\n",
    "clf = RandomForestRegressor(random_state=70)\n",
    "\n",
    "rf_grid = RandomizedSearchCV(clf, param_grid_1, cv=5, verbose=1, n_jobs=-1)\n",
    "\n",
    "rf_grid.fit(X_train, y_train)"
   ]
  },
  {
   "cell_type": "code",
   "execution_count": null,
   "id": "7a5c9d5f",
   "metadata": {},
   "outputs": [],
   "source": [
    "rf_grid.best_params_"
   ]
  },
  {
   "cell_type": "code",
   "execution_count": null,
   "id": "95550954",
   "metadata": {},
   "outputs": [],
   "source": [
    "rf_grid.best_score_"
   ]
  },
  {
   "cell_type": "code",
   "execution_count": null,
   "id": "767bcc9f",
   "metadata": {},
   "outputs": [],
   "source": [
    "rf3=RandomForestClassifier(n_estimators=rf_grid.best_params_['n_estimators'],\n",
    "                           max_depth=rf_grid.best_params_['max_depth'], \n",
    "                           min_samples_split=rf_grid.best_params_[\"min_samples_split\"]\n",
    "                           min_samples_leaf=rf_grid.best_params_[\"min_samples_leaf\"]\n",
    "                            \n",
    "                          )\n",
    "rf3.fit(X_train, y_train) \n",
    "print(\"Train Accuracy :\", rf3.score(X_train,y_train))\n",
    "print(\"Test Accuracy :\", rf3.score(X_test,y_test))"
   ]
  },
  {
   "cell_type": "code",
   "execution_count": 65,
   "id": "69f06f30",
   "metadata": {},
   "outputs": [
    {
     "data": {
      "text/plain": [
       "array([ 6003.53713025, 14002.57669505, 16047.00524336, ...,\n",
       "       14632.62584307,  7745.00016123,  7426.44298565])"
      ]
     },
     "execution_count": 65,
     "metadata": {},
     "output_type": "execute_result"
    }
   ],
   "source": [
    "y_pred_train=rf2.predict(X_train)\n",
    "y_pred_train"
   ]
  },
  {
   "cell_type": "code",
   "execution_count": 66,
   "id": "c6453198",
   "metadata": {},
   "outputs": [
    {
     "data": {
      "text/plain": [
       "array([ 6601.65740251, 14262.63419403, 13257.68874737, ...,\n",
       "        7430.30055131, 13676.40822949,  7426.44298565])"
      ]
     },
     "execution_count": 66,
     "metadata": {},
     "output_type": "execute_result"
    }
   ],
   "source": [
    "y_pred_test=rf2.predict(X_test)\n",
    "y_pred_test"
   ]
  },
  {
   "cell_type": "code",
   "execution_count": 67,
   "id": "34b3b226",
   "metadata": {},
   "outputs": [
    {
     "name": "stdout",
     "output_type": "stream",
     "text": [
      "Train RMSE : 2918.317144348185\n",
      "Test RMSE : 2924.4487587667686\n"
     ]
    }
   ],
   "source": [
    "print(\"Train RMSE :\", np.sqrt(np.mean((y_train-y_pred_train)**2)))\n",
    "print(\"Test RMSE :\", np.sqrt(np.mean((y_test-y_pred_test)**2)))"
   ]
  },
  {
   "cell_type": "code",
   "execution_count": null,
   "id": "8fbea0a3",
   "metadata": {},
   "outputs": [],
   "source": []
  },
  {
   "cell_type": "markdown",
   "id": "50f02069",
   "metadata": {},
   "source": [
    "### ALGORITHM - XG BOOST"
   ]
  },
  {
   "cell_type": "code",
   "execution_count": 68,
   "id": "84228eb3",
   "metadata": {},
   "outputs": [],
   "source": [
    "from xgboost import XGBRFRegressor"
   ]
  },
  {
   "cell_type": "code",
   "execution_count": 69,
   "id": "fb427e89",
   "metadata": {},
   "outputs": [
    {
     "data": {
      "text/plain": [
       "XGBRFRegressor(base_score=0.5, booster='gbtree', colsample_bylevel=1,\n",
       "               colsample_bytree=1, enable_categorical=False, gamma=0, gpu_id=-1,\n",
       "               importance_type=None, interaction_constraints='',\n",
       "               max_delta_step=0, max_depth=7, min_child_weight=45, missing=nan,\n",
       "               monotone_constraints='()', n_estimators=100, n_jobs=8,\n",
       "               num_parallel_tree=100, objective='reg:squarederror',\n",
       "               predictor='auto', random_state=54, reg_alpha=0,\n",
       "               scale_pos_weight=1, seed=54, tree_method='exact',\n",
       "               validate_parameters=1, verbosity=None)"
      ]
     },
     "execution_count": 69,
     "metadata": {},
     "output_type": "execute_result"
    }
   ],
   "source": [
    "Xgbr = XGBRFRegressor(learning_rate=1.0, max_depth=7, min_child_weight=45, seed=54)\n",
    "\n",
    "Xgbr.fit(X_train, y_train)"
   ]
  },
  {
   "cell_type": "code",
   "execution_count": 70,
   "id": "7030ad9e",
   "metadata": {},
   "outputs": [
    {
     "name": "stdout",
     "output_type": "stream",
     "text": [
      "Train Accuracy: 0.6423165190926423\n",
      "Test Accuracy: 0.6411072257655315\n"
     ]
    }
   ],
   "source": [
    "print(\"Train Accuracy:\", Xgbr.score(X_train, y_train))\n",
    "print(\"Test Accuracy:\", Xgbr.score(X_test,y_test))"
   ]
  },
  {
   "cell_type": "code",
   "execution_count": 77,
   "id": "809ad055",
   "metadata": {},
   "outputs": [
    {
     "name": "stdout",
     "output_type": "stream",
     "text": [
      "Train Accuracy: 0.5376142035354343\n",
      "Test Accuracy: 0.5384362718745254\n"
     ]
    }
   ],
   "source": [
    "Xgbr1 = XGBRFRegressor(learning_rate=1.0, max_depth=5, min_child_weight=30, seed=54)\n",
    "\n",
    "Xgbr1.fit(X_train, y_train)\n",
    "\n",
    "print(\"Train Accuracy:\", Xgbr1.score(X_train, y_train))\n",
    "print(\"Test Accuracy:\", Xgbr1.score(X_test,y_test))"
   ]
  },
  {
   "cell_type": "code",
   "execution_count": 84,
   "id": "879d367d",
   "metadata": {},
   "outputs": [
    {
     "name": "stdout",
     "output_type": "stream",
     "text": [
      "Train Accuracy: 0.6621982062635382\n",
      "Test Accuracy: 0.658490111297352\n"
     ]
    }
   ],
   "source": [
    "Xgbr2 = XGBRFRegressor(learning_rate=1.0, max_depth=10, min_child_weight=40, seed=0, random_state=70)\n",
    "\n",
    "Xgbr2.fit(X_train, y_train)\n",
    "\n",
    "print(\"Train Accuracy:\", Xgbr2.score(X_train, y_train))\n",
    "print(\"Test Accuracy:\", Xgbr2.score(X_test,y_test))"
   ]
  },
  {
   "cell_type": "markdown",
   "id": "95416597",
   "metadata": {},
   "source": [
    "#### hyperparameter tuning"
   ]
  },
  {
   "cell_type": "code",
   "execution_count": null,
   "id": "791e6a6d",
   "metadata": {},
   "outputs": [],
   "source": [
    "from sklearn.model_selection import RandomizedSearchCV\n",
    "\n",
    "params =  {'max_depth': [2,5,6,10],\n",
    "            'learning_rate':[0.5,1.0,1.5],\n",
    "            'seed': [0,2,4],\n",
    "            'min_child_weight': [20,40,50,100]\n",
    "     \n",
    "              }\n",
    "\n",
    "xgb_reg = XGBRegressor(random_state=89)\n",
    "\n",
    "xgb_reg_grid = RandomizedSearchCV(xgb_reg, params, cv=5, verbose=1, n_jobs=-1)\n",
    "\n",
    "xgb_reg_grid.fit(X_train, y_train)"
   ]
  },
  {
   "cell_type": "code",
   "execution_count": null,
   "id": "6375d046",
   "metadata": {},
   "outputs": [],
   "source": [
    "xgb_reg_grid.best_params_"
   ]
  },
  {
   "cell_type": "code",
   "execution_count": null,
   "id": "3e8c008e",
   "metadata": {},
   "outputs": [],
   "source": [
    "xgb_reg_grid.best_score_"
   ]
  },
  {
   "cell_type": "code",
   "execution_count": null,
   "id": "abb98e26",
   "metadata": {},
   "outputs": [],
   "source": [
    "xgb_reg3 = XGBRegressor(learning_rate=xgb_reg_grid.best_params_['learning_rate'],\n",
    "                     max_depth=xgb_reg_grid.best_params_['max_depth'], \n",
    "                     seed=xgb_reg_grid.best_params_['seed'],\n",
    "                     min_child_weight=xgb_reg_grid.best_params_['min_child_weight'])\n",
    "\n",
    "xgb_reg3.fit(X_train, y_train)\n",
    "\n",
    "print(\"Train Accuaracy:\", xgb_reg3.score(X_train, y_train))\n",
    "print(\"Test Accuaracy:\", xgb_reg3.score(X_test,y_test))"
   ]
  },
  {
   "cell_type": "code",
   "execution_count": 85,
   "id": "abf90cd6",
   "metadata": {},
   "outputs": [
    {
     "data": {
      "text/plain": [
       "array([ 6016.985 , 14049.772 , 16029.624 , ..., 14651.767 ,  7680.635 ,\n",
       "        7450.7715], dtype=float32)"
      ]
     },
     "execution_count": 85,
     "metadata": {},
     "output_type": "execute_result"
    }
   ],
   "source": [
    "Xgbr_y_Pred_train = Xgbr2.predict(X_train)\n",
    "Xgbr_y_Pred_train"
   ]
  },
  {
   "cell_type": "code",
   "execution_count": 86,
   "id": "e44dda08",
   "metadata": {},
   "outputs": [
    {
     "data": {
      "text/plain": [
       "array([ 6461.0586, 14270.38  , 13317.031 , ...,  7499.8843, 13631.488 ,\n",
       "        7450.7715], dtype=float32)"
      ]
     },
     "execution_count": 86,
     "metadata": {},
     "output_type": "execute_result"
    }
   ],
   "source": [
    "Xgbr_y_Pred_test = Xgbr2.predict(X_test)\n",
    "Xgbr_y_Pred_test"
   ]
  },
  {
   "cell_type": "code",
   "execution_count": 88,
   "id": "dcf91025",
   "metadata": {},
   "outputs": [
    {
     "name": "stdout",
     "output_type": "stream",
     "text": [
      "Train RMSE 2921.2250854735585\n",
      "Test RMSE 2927.4979077703883\n"
     ]
    }
   ],
   "source": [
    "print(\"Train RMSE\", np.sqrt(np.mean((y_train-Xgbr_y_Pred_train)**2)))\n",
    "print(\"Test RMSE\", np.sqrt(np.mean((y_test-Xgbr_y_Pred_test)**2)))"
   ]
  },
  {
   "cell_type": "markdown",
   "id": "1b676bc7",
   "metadata": {},
   "source": [
    "## xgboost and random forest are performing very well on this dataset"
   ]
  }
 ],
 "metadata": {
  "kernelspec": {
   "display_name": "Python 3",
   "language": "python",
   "name": "python3"
  },
  "language_info": {
   "codemirror_mode": {
    "name": "ipython",
    "version": 3
   },
   "file_extension": ".py",
   "mimetype": "text/x-python",
   "name": "python",
   "nbconvert_exporter": "python",
   "pygments_lexer": "ipython3",
   "version": "3.8.8"
  }
 },
 "nbformat": 4,
 "nbformat_minor": 5
}
